{
 "cells": [
  {
   "cell_type": "markdown",
   "metadata": {
    "ExecuteTime": {
     "end_time": "2021-11-21T20:23:59.950128Z",
     "start_time": "2021-11-21T20:23:56.544340Z"
    }
   },
   "source": [
    "# Comparison CellRank on RNA vs. MultiVelo + CellRank on RNA+ATAC\n",
    "## Preprocessing\n",
    "\n",
    "We will use the embryonic E18 mouse brain from 10X Multiome as an example.\n",
    "\n",
    "CellRanger output files can be downloaded from [10X website](https://www.10xgenomics.com/resources/datasets/fresh-embryonic-e-18-mouse-brain-5-k-1-standard-1-0-0). Crucially, the filtered feature barcode matrix folder, ATAC peak annotations TSV, and the feature linkage BEDPE file in the secondary analysis outputs folder will be needed in this demo. \n",
    "\n",
    "Quantified unspliced and spliced counts from Velocyto can be downloaded from [MultiVelo GitHub page](https://github.com/welch-lab/MultiVelo).\n",
    "\n",
    "We provide the cell annotations for this dataset in \"cell_annotations.tsv\" on the GitHub page. (To download from GitHub, click on the file, then click \"Raw\" on the top right corner. If it opens in your browser, you can download the page as a text file.)\n",
    "\n",
    "Weighted nearest neighbors from Seurat can be downloaded from GitHub folder \"seurat_wnn\", which contains a zip file of three files: \"nn_cells.txt\", \"nn_dist.txt\", and \"nn_idx.txt\". Please unzip the archive after downloading. The R script used to generate such files can also be found in the same folder.\n",
    "```\n",
    ".\n",
    "|-- MultiVelo_Demo.ipynb\n",
    "|-- cell_annotations.tsv\n",
    "|-- outs\n",
    "|   |-- analysis\n",
    "|   |   `-- feature_linkage\n",
    "|   |       `-- feature_linkage.bedpe\n",
    "|   |-- filtered_feature_bc_matrix\n",
    "|   |   |-- barcodes.tsv.gz\n",
    "|   |   |-- features.tsv.gz\n",
    "|   |   `-- matrix.mtx.gz\n",
    "|   `-- peak_annotation.tsv\n",
    "|-- seurat_wnn\n",
    "|   |-- nn_cells.txt\n",
    "|   |-- nn_dist.txt\n",
    "|   `-- nn_idx.txt\n",
    "`-- velocyto\n",
    "    `-- 10X_multiome_mouse_brain.loom\n",
    "```"
   ]
  },
  {
   "cell_type": "code",
   "execution_count": 3,
   "metadata": {
    "ExecuteTime": {
     "end_time": "2022-05-09T20:11:58.142534Z",
     "start_time": "2022-05-09T20:11:54.599165Z"
    }
   },
   "outputs": [],
   "source": [
    "import os\n",
    "import scipy\n",
    "import numpy as np\n",
    "import pandas as pd\n",
    "import matplotlib.pyplot as plt"
   ]
  },
  {
   "cell_type": "code",
   "execution_count": null,
   "metadata": {},
   "outputs": [],
   "source": [
    "import scanpy as sc\n",
    "import scvelo as scv\n",
    "import cellrank as cr\n",
    "import multivelo as mv"
   ]
  },
  {
   "cell_type": "code",
   "execution_count": 2,
   "metadata": {
    "ExecuteTime": {
     "end_time": "2021-12-01T20:54:54.306975Z",
     "start_time": "2021-12-01T20:54:54.304125Z"
    }
   },
   "outputs": [],
   "source": [
    "scv.settings.verbosity = 3\n",
    "scv.settings.presenter_view = True\n",
    "scv.set_figure_params('scvelo')\n",
    "pd.set_option('display.max_columns', 100)\n",
    "pd.set_option('display.max_rows', 200)\n",
    "np.set_printoptions(suppress=True)"
   ]
  },
  {
   "cell_type": "code",
   "execution_count": 4,
   "metadata": {},
   "outputs": [],
   "source": [
    "data_path = '../data'\n",
    "result_path = os.path.join(data_path, 'results')"
   ]
  },
  {
   "cell_type": "markdown",
   "metadata": {},
   "source": [
    "## Preprocessing"
   ]
  },
  {
   "cell_type": "code",
   "execution_count": 11,
   "metadata": {
    "ExecuteTime": {
     "end_time": "2021-11-22T20:34:41.357258Z",
     "start_time": "2021-11-22T20:34:40.742797Z"
    }
   },
   "outputs": [],
   "source": [
    "def load_adata_rna():\n",
    "    ## Reading in unspliced and spliced counts\n",
    "    rna_fn = os.path.join(data_path, \"velocyto/10X_multiome_mouse_brain.loom\")\n",
    "    adata_rna = scv.read(rna_fn, cache=True)\n",
    "    adata_rna.obs_names = [x.split(':')[1][:-1] + '-1' for x in adata_rna.obs_names]\n",
    "    adata_rna.var_names_make_unique()\n",
    "    \n",
    "    ## Filtering\n",
    "    sc.pp.filter_cells(adata_rna, min_counts=1000)\n",
    "    sc.pp.filter_cells(adata_rna, max_counts=20000)\n",
    "\n",
    "    # Top 1000 variable genes are used for downstream analyses.\n",
    "    scv.pp.filter_and_normalize(adata_rna, min_shared_counts=10, n_top_genes=1000)\n",
    "\n",
    "    # Load cell annotations\n",
    "    cell_annot_fn = os.path.join(data_path, 'cell_annotations.tsv')\n",
    "    cell_annot = pd.read_csv(cell_annot_fn, sep='\\t', index_col=0)\n",
    "\n",
    "    adata_rna = adata_rna[cell_annot.index,:]\n",
    "    adata_rna.obs['celltype'] = cell_annot['celltype']\n",
    "\n",
    "    # We subset for lineages towards neurons and astrocytes.\n",
    "    adata_rna = adata_rna[adata_rna.obs['celltype'].isin(['RG, Astro, OPC', \n",
    "                                                          'IPC', \n",
    "                                                          'V-SVZ', \n",
    "                                                          'Upper Layer', \n",
    "                                                          'Deeper Layer', \n",
    "                                                          'Ependymal cells', \n",
    "                                                          'Subplate'])]\n",
    "    return adata_rna"
   ]
  },
  {
   "cell_type": "code",
   "execution_count": 12,
   "metadata": {
    "ExecuteTime": {
     "end_time": "2021-11-22T20:34:49.170350Z",
     "start_time": "2021-11-22T20:34:47.652826Z"
    }
   },
   "outputs": [],
   "source": [
    "def load_adata_atac():\n",
    "    atac_fn = os.path.join(data_path, 'outs/filtered_feature_bc_matrix/')\n",
    "    adata_atac = sc.read_10x_mtx(atac_fn, var_names='gene_symbols', cache=True, gex_only=False)\n",
    "    adata_atac = adata_atac[:,adata_atac.var['feature_types'] == \"Peaks\"]\n",
    "\n",
    "    # We aggregate peaks around each gene as well as those that have high correlations with \n",
    "    # promoter peak or gene expression.\n",
    "    # Peak annotation contains the metadata for all peaks.\n",
    "    # Feature linkage contains pairs of correlated genomic features.\n",
    "    peak_fn = os.path.join(data_path, 'outs/peak_annotation.tsv')\n",
    "    linkage_fn = os.path.join(data_path, 'outs/analysis/feature_linkage/feature_linkage.bedpe')\n",
    "    adata_atac = mv.aggregate_peaks_10x(adata_atac, peak_fn, linkage_fn, verbose=True)\n",
    "\n",
    "    sc.pp.filter_cells(adata_atac, min_counts=2000)\n",
    "    sc.pp.filter_cells(adata_atac, max_counts=60000)\n",
    "\n",
    "    # We normalize aggregated peaks with TF-IDF.\n",
    "    mv.tfidf_norm(adata_atac)\n",
    "    \n",
    "    return adata_atac"
   ]
  },
  {
   "cell_type": "code",
   "execution_count": 13,
   "metadata": {
    "ExecuteTime": {
     "end_time": "2021-11-22T20:36:46.422995Z",
     "start_time": "2021-11-22T20:36:46.388613Z"
    }
   },
   "outputs": [],
   "source": [
    "def clean_rna_and_atac(adata_rna, adata_atac):\n",
    "    shared_cells = pd.Index(np.intersect1d(adata_rna.obs_names, adata_atac.obs_names))\n",
    "    shared_genes = pd.Index(np.intersect1d(adata_rna.var_names, adata_atac.var_names))\n",
    "\n",
    "    # We reload in the raw data and continue with a subset of cells.\n",
    "    \n",
    "    rna_fn = os.path.join(data_path, \"velocyto/10X_multiome_mouse_brain.loom\")\n",
    "    adata_rna = scv.read(rna_fn, cache=True)\n",
    "    adata_rna.obs_names = [x.split(':')[1][:-1] + '-1' for x in adata_rna.obs_names]\n",
    "    adata_rna.var_names_make_unique()\n",
    "\n",
    "    adata_rna = adata_rna[shared_cells, shared_genes]\n",
    "    adata_atac = adata_atac[shared_cells, shared_genes]\n",
    "\n",
    "    scv.pp.normalize_per_cell(adata_rna)\n",
    "    scv.pp.log1p(adata_rna)\n",
    "    scv.pp.moments(adata_rna, n_pcs=30, n_neighbors=50)\n",
    "    \n",
    "    cell_annot_fn = os.path.join(data_path, 'cell_annotations.tsv')\n",
    "    cell_annot = pd.read_csv(cell_annot_fn, sep='\\t', index_col=0)\n",
    "    \n",
    "    adata_rna.obs['celltype'] = cell_annot.loc[adata_rna.obs_names, 'celltype']\n",
    "    adata_rna.obs['celltype'] = adata_rna.obs['celltype'].astype('category')\n",
    "\n",
    "    # Reorder the categories for color consistency with the manuscript.\n",
    "    all_clusters = ['Upper Layer',\n",
    "                    'Deeper Layer',\n",
    "                    'V-SVZ',\n",
    "                    'RG, Astro, OPC',\n",
    "                    'Ependymal cells',\n",
    "                    'IPC',\n",
    "                    'Subplate']\n",
    "    adata_rna.obs['celltype'] = adata_rna.obs['celltype'].cat.reorder_categories(all_clusters)\n",
    "\n",
    "    scv.tl.umap(adata_rna)\n",
    "\n",
    "    # Write out filtered cells and prepare to run Seurat WNN --> R script can be found on Github.\n",
    "    adata_rna.obs_names.to_frame().to_csv(os.path.join(data_path, 'filtered_cells.txt'),\n",
    "                                          header=False, index=False)\n",
    "\n",
    "    # Read in Seurat WNN neighbors.\n",
    "    seurat_path = os.path.join(data_path, 'seurat_wnn')\n",
    "    nn_idx = np.loadtxt(os.path.join(seurat_path, \"nn_idx.txt\"), delimiter=',')\n",
    "    nn_dist = np.loadtxt(os.path.join(seurat_path, \"nn_dist.txt\"), delimiter=',')\n",
    "    nn_cells = pd.Index(pd.read_csv(os.path.join(seurat_path, \"nn_cells.txt\"), header=None)[0])\n",
    "\n",
    "    # Make sure cell names match.\n",
    "    assert np.all(nn_cells == adata_atac.obs_names)\n",
    "\n",
    "    mv.knn_smooth_chrom(adata_atac, nn_idx, nn_dist)\n",
    "    \n",
    "    return adata_rna, adata_atac"
   ]
  },
  {
   "cell_type": "code",
   "execution_count": 14,
   "metadata": {},
   "outputs": [],
   "source": [
    "def load_rna_and_atac():\n",
    "    adata_rna = load_adata_rna()\n",
    "    adata_atac = load_adata_atac()\n",
    "    \n",
    "    adata_rna, adata_atac = clean_rna_and_atac(adata_rna, adata_atac)\n",
    "    \n",
    "    return adata_rna, adata_atac"
   ]
  },
  {
   "cell_type": "code",
   "execution_count": 17,
   "metadata": {
    "scrolled": true
   },
   "outputs": [],
   "source": [
    "%%time\n",
    "adata_rna, adata_atac = load_rna_and_atac()"
   ]
  },
  {
   "cell_type": "code",
   "execution_count": 22,
   "metadata": {},
   "outputs": [],
   "source": [
    "adata_rna.write(os.path.join(result_path, \"adata_rna_mouse_brain.h5ad\"))\n",
    "adata_atac.write(os.path.join(result_path, \"adata_atac_mouse_brain.h5ad\"))"
   ]
  },
  {
   "cell_type": "code",
   "execution_count": null,
   "metadata": {},
   "outputs": [],
   "source": []
  }
 ],
 "metadata": {
  "kernelspec": {
   "display_name": "Python 3",
   "language": "python",
   "name": "python3"
  },
  "language_info": {
   "codemirror_mode": {
    "name": "ipython",
    "version": 3
   },
   "file_extension": ".py",
   "mimetype": "text/x-python",
   "name": "python",
   "nbconvert_exporter": "python",
   "pygments_lexer": "ipython3",
   "version": "3.8.3"
  },
  "toc": {
   "base_numbering": 1,
   "nav_menu": {},
   "number_sections": true,
   "sideBar": true,
   "skip_h1_title": false,
   "title_cell": "Table of Contents",
   "title_sidebar": "Contents",
   "toc_cell": false,
   "toc_position": {},
   "toc_section_display": true,
   "toc_window_display": false
  },
  "varInspector": {
   "cols": {
    "lenName": 16,
    "lenType": 16,
    "lenVar": "48"
   },
   "kernels_config": {
    "python": {
     "delete_cmd_postfix": "",
     "delete_cmd_prefix": "del ",
     "library": "var_list.py",
     "varRefreshCmd": "print(var_dic_list())"
    },
    "r": {
     "delete_cmd_postfix": ") ",
     "delete_cmd_prefix": "rm(",
     "library": "var_list.r",
     "varRefreshCmd": "cat(var_dic_list()) "
    }
   },
   "types_to_exclude": [
    "module",
    "function",
    "builtin_function_or_method",
    "instance",
    "_Feature"
   ],
   "window_display": false
  }
 },
 "nbformat": 4,
 "nbformat_minor": 5
}
