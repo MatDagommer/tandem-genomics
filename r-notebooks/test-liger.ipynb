{
 "cells": [
  {
   "cell_type": "markdown",
   "metadata": {},
   "source": [
    "Liger go go goooo"
   ]
  },
  {
   "cell_type": "code",
   "execution_count": 29,
   "metadata": {},
   "outputs": [],
   "source": [
    "library(Matrix)\n",
    "library(patchwork)\n",
    "library(liger)"
   ]
  },
  {
   "cell_type": "code",
   "execution_count": 30,
   "metadata": {},
   "outputs": [],
   "source": [
    "D5T1 <- readRDS('../data/liger-scATAC-scRNA/GSM4138888_scATAC_BMMC_D5T1.RDS')\n",
    "rna1 <- readRDS('../data/liger-scATAC-scRNA/GSM4138872_scRNA_BMMC_D1T1.rds')\n",
    "rna2 <- readRDS('../data/liger-scATAC-scRNA/GSM4138873_scRNA_BMMC_D1T2.rds')\n",
    "bmmc.rna <- cbind(rna1,rna2)\n",
    "rm(rna1, rna2)"
   ]
  },
  {
   "cell_type": "code",
   "execution_count": 31,
   "metadata": {},
   "outputs": [
    {
     "ename": "ERROR",
     "evalue": "Error in createLiger(bmmc.data): impossible de trouver la fonction \"createLiger\"\n",
     "output_type": "error",
     "traceback": [
      "Error in createLiger(bmmc.data): impossible de trouver la fonction \"createLiger\"\nTraceback:\n"
     ]
    }
   ],
   "source": [
    "bmmc.data <- list(atac = D5T1, rna = bmmc.rna)\n",
    "int.bmmc <- createLiger(bmmc.data)\n",
    "rm(genes.bc, promoters.bc, gene.counts, promoter.counts, D5T1, bmmc.rna, bmmc.data)\n",
    "gc()"
   ]
  },
  {
   "cell_type": "code",
   "execution_count": 6,
   "metadata": {},
   "outputs": [
    {
     "ename": "ERROR",
     "evalue": "Error in normalize(int.bmmc): impossible de trouver la fonction \"normalize\"\n",
     "output_type": "error",
     "traceback": [
      "Error in normalize(int.bmmc): impossible de trouver la fonction \"normalize\"\nTraceback:\n"
     ]
    }
   ],
   "source": [
    "int.bmmc <- normalize(int.bmmc)\n",
    "int.bmmc <- selectGenes(int.bmmc, datasets.use = 2)\n",
    "int.bmmc <- scaleNotCenter(int.bmmc)"
   ]
  },
  {
   "cell_type": "code",
   "execution_count": 7,
   "metadata": {},
   "outputs": [
    {
     "ename": "ERROR",
     "evalue": "Error in optimizeALS(int.bmmc, k = 20): impossible de trouver la fonction \"optimizeALS\"\n",
     "output_type": "error",
     "traceback": [
      "Error in optimizeALS(int.bmmc, k = 20): impossible de trouver la fonction \"optimizeALS\"\nTraceback:\n"
     ]
    }
   ],
   "source": [
    "int.bmmc <- optimizeALS(int.bmmc, k = 20)"
   ]
  },
  {
   "cell_type": "code",
   "execution_count": 8,
   "metadata": {},
   "outputs": [
    {
     "ename": "ERROR",
     "evalue": "Error in quantile_norm(int.bmmc): impossible de trouver la fonction \"quantile_norm\"\n",
     "output_type": "error",
     "traceback": [
      "Error in quantile_norm(int.bmmc): impossible de trouver la fonction \"quantile_norm\"\nTraceback:\n"
     ]
    }
   ],
   "source": [
    "int.bmmc <- quantile_norm(int.bmmc)"
   ]
  },
  {
   "cell_type": "code",
   "execution_count": 9,
   "metadata": {},
   "outputs": [
    {
     "ename": "ERROR",
     "evalue": "Error in louvainCluster(int.bmmc, resolution = 0.2): impossible de trouver la fonction \"louvainCluster\"\n",
     "output_type": "error",
     "traceback": [
      "Error in louvainCluster(int.bmmc, resolution = 0.2): impossible de trouver la fonction \"louvainCluster\"\nTraceback:\n"
     ]
    }
   ],
   "source": [
    "int.bmmc <- louvainCluster(int.bmmc, resolution = 0.2)"
   ]
  },
  {
   "cell_type": "markdown",
   "metadata": {},
   "source": [
    "## Visualization"
   ]
  },
  {
   "cell_type": "code",
   "execution_count": 10,
   "metadata": {},
   "outputs": [
    {
     "ename": "ERROR",
     "evalue": "Error in runUMAP(int.bmmc, distance = \"cosine\", n_neighbors = 30, min_dist = 0.3): impossible de trouver la fonction \"runUMAP\"\n",
     "output_type": "error",
     "traceback": [
      "Error in runUMAP(int.bmmc, distance = \"cosine\", n_neighbors = 30, min_dist = 0.3): impossible de trouver la fonction \"runUMAP\"\nTraceback:\n"
     ]
    }
   ],
   "source": [
    "int.bmmc <- runUMAP(int.bmmc, distance = 'cosine', n_neighbors = 30, min_dist = 0.3)"
   ]
  },
  {
   "cell_type": "code",
   "execution_count": 11,
   "metadata": {},
   "outputs": [
    {
     "ename": "ERROR",
     "evalue": "Error in plotByDatasetAndCluster(int.bmmc, axis.labels = c(\"UMAP 1\", \"UMAP 2\")): impossible de trouver la fonction \"plotByDatasetAndCluster\"\n",
     "output_type": "error",
     "traceback": [
      "Error in plotByDatasetAndCluster(int.bmmc, axis.labels = c(\"UMAP 1\", \"UMAP 2\")): impossible de trouver la fonction \"plotByDatasetAndCluster\"\nTraceback:\n"
     ]
    }
   ],
   "source": [
    "plotByDatasetAndCluster(int.bmmc, axis.labels = c('UMAP 1', 'UMAP 2'))"
   ]
  },
  {
   "cell_type": "code",
   "execution_count": 12,
   "metadata": {},
   "outputs": [
    {
     "ename": "ERROR",
     "evalue": "Error in runWilcoxon(int.bmmc, data.use = \"all\", compare.method = \"clusters\"): impossible de trouver la fonction \"runWilcoxon\"\n",
     "output_type": "error",
     "traceback": [
      "Error in runWilcoxon(int.bmmc, data.use = \"all\", compare.method = \"clusters\"): impossible de trouver la fonction \"runWilcoxon\"\nTraceback:\n"
     ]
    }
   ],
   "source": [
    "int.bmmc.wilcoxon <- runWilcoxon(int.bmmc, data.use = 'all', compare.method = 'clusters')"
   ]
  },
  {
   "cell_type": "code",
   "execution_count": 13,
   "metadata": {},
   "outputs": [
    {
     "ename": "ERROR",
     "evalue": "Error in eval(expr, envir, enclos): objet 'int.bmmc.wilcoxon' introuvable\n",
     "output_type": "error",
     "traceback": [
      "Error in eval(expr, envir, enclos): objet 'int.bmmc.wilcoxon' introuvable\nTraceback:\n"
     ]
    }
   ],
   "source": [
    "int.bmmc.wilcoxon <- int.bmmc.wilcoxon[int.bmmc.wilcoxon$padj < 0.05,]\n",
    "int.bmmc.wilcoxon <- int.bmmc.wilcoxon[int.bmmc.wilcoxon$logFC > 3,]"
   ]
  },
  {
   "cell_type": "code",
   "execution_count": 14,
   "metadata": {},
   "outputs": [
    {
     "ename": "ERROR",
     "evalue": "Error in eval(expr, envir, enclos): objet 'int.bmmc.wilcoxon' introuvable\n",
     "output_type": "error",
     "traceback": [
      "Error in eval(expr, envir, enclos): objet 'int.bmmc.wilcoxon' introuvable\nTraceback:\n"
     ]
    }
   ],
   "source": [
    "wilcoxon.cluster_1 <- int.bmmc.wilcoxon[int.bmmc.wilcoxon$group == 1, ]\n",
    "wilcoxon.cluster_1 <- wilcoxon.cluster_1[order(wilcoxon.cluster_1$padj), ]\n",
    "markers.cluster_1 <- wilcoxon.cluster_1[1:20, ]"
   ]
  },
  {
   "cell_type": "code",
   "execution_count": 15,
   "metadata": {},
   "outputs": [
    {
     "ename": "ERROR",
     "evalue": "Error in plotGene(int.bmmc, \"S100A9\", axis.labels = c(\"UMAP 1\", \"UMAP 2\"), : impossible de trouver la fonction \"plotGene\"\n",
     "output_type": "error",
     "traceback": [
      "Error in plotGene(int.bmmc, \"S100A9\", axis.labels = c(\"UMAP 1\", \"UMAP 2\"), : impossible de trouver la fonction \"plotGene\"\nTraceback:\n"
     ]
    }
   ],
   "source": [
    "S100A9 <- plotGene(int.bmmc, \"S100A9\", axis.labels = c('UMAP 1', 'UMAP 2'), return.plots = TRUE)\n",
    "MS4A1 <- plotGene(int.bmmc, \"MS4A1\", axis.labels = c('UMAP 1', 'UMAP 2'), return.plots = TRUE)\n",
    "plot_grid(S100A9[[2]],MS4A1[[2]],S100A9[[1]],MS4A1[[1]], ncol=2)"
   ]
  },
  {
   "cell_type": "code",
   "execution_count": 16,
   "metadata": {},
   "outputs": [
    {
     "ename": "ERROR",
     "evalue": "Error in plotGeneLoadings(int.bmmc, return.plots = FALSE): impossible de trouver la fonction \"plotGeneLoadings\"\n",
     "output_type": "error",
     "traceback": [
      "Error in plotGeneLoadings(int.bmmc, return.plots = FALSE): impossible de trouver la fonction \"plotGeneLoadings\"\nTraceback:\n"
     ]
    }
   ],
   "source": [
    "pdf('Gene_Loadings.pdf')\n",
    "plotGeneLoadings(int.bmmc, return.plots = FALSE)\n",
    "dev.off()"
   ]
  },
  {
   "cell_type": "code",
   "execution_count": 17,
   "metadata": {},
   "outputs": [
    {
     "ename": "ERROR",
     "evalue": "Error in plotGeneLoadings(int.bmmc, do.spec.plot = FALSE, return.plots = TRUE): impossible de trouver la fonction \"plotGeneLoadings\"\n",
     "output_type": "error",
     "traceback": [
      "Error in plotGeneLoadings(int.bmmc, do.spec.plot = FALSE, return.plots = TRUE): impossible de trouver la fonction \"plotGeneLoadings\"\nTraceback:\n"
     ]
    }
   ],
   "source": [
    "gene_loadings <- plotGeneLoadings(int.bmmc, do.spec.plot = FALSE, return.plots = TRUE)\n",
    "gene_loadings[[7]]"
   ]
  },
  {
   "cell_type": "code",
   "execution_count": 18,
   "metadata": {},
   "outputs": [
    {
     "ename": "ERROR",
     "evalue": "Error in plotGene(int.bmmc, \"CCR6\", axis.labels = c(\"UMAP 1\", \"UMAP 2\"), : impossible de trouver la fonction \"plotGene\"\n",
     "output_type": "error",
     "traceback": [
      "Error in plotGene(int.bmmc, \"CCR6\", axis.labels = c(\"UMAP 1\", \"UMAP 2\"), : impossible de trouver la fonction \"plotGene\"\nTraceback:\n"
     ]
    }
   ],
   "source": [
    "CCR6 <- plotGene(int.bmmc, \"CCR6\", axis.labels = c('UMAP 1', 'UMAP 2'), return.plots = TRUE)\n",
    "NCF1 <- plotGene(int.bmmc, \"NCF1\", axis.labels = c('UMAP 1', 'UMAP 2'), return.plots = TRUE)\n",
    "plot_grid(CCR6[[2]],NCF1[[2]],CCR6[[1]],NCF1[[1]], ncol=2)"
   ]
  },
  {
   "cell_type": "code",
   "execution_count": null,
   "metadata": {},
   "outputs": [],
   "source": []
  }
 ],
 "metadata": {
  "kernelspec": {
   "display_name": "R",
   "language": "R",
   "name": "ir"
  },
  "language_info": {
   "codemirror_mode": "r",
   "file_extension": ".r",
   "mimetype": "text/x-r-source",
   "name": "R",
   "pygments_lexer": "r",
   "version": "4.2.2"
  }
 },
 "nbformat": 4,
 "nbformat_minor": 4
}
