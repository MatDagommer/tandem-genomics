{
 "cells": [
  {
   "cell_type": "markdown",
   "metadata": {},
   "source": [
    "# Joint definition of cell types from multiple scRNA-seq datasets\n",
    "\n",
    "https://htmlpreview.github.io/?https://github.com/welch-lab/liger/blob/master/vignettes/Integrating_multi_scRNA_data.html"
   ]
  },
  {
   "cell_type": "code",
   "execution_count": 1,
   "metadata": {},
   "outputs": [],
   "source": [
    "library(liger)"
   ]
  },
  {
   "cell_type": "markdown",
   "metadata": {},
   "source": [
    "## Stage I: Preprocessing and Normalization"
   ]
  },
  {
   "cell_type": "code",
   "execution_count": 2,
   "metadata": {},
   "outputs": [],
   "source": [
    "ctrl_dge <- readRDS(\"../data/liger-scRNAs/PBMC_control.RDS\");\n",
    "stim_dge <- readRDS(\"../data/liger-scRNAs/PBMC_interferon-stimulated.RDS\");"
   ]
  },
  {
   "cell_type": "code",
   "execution_count": 3,
   "metadata": {},
   "outputs": [
    {
     "ename": "ERROR",
     "evalue": "Error in read10X(sample.dirs = c(\"10x_ctrl_outs\", \"10x_stim_outs\"), sample.names = c(\"ctrl\", : impossible de trouver la fonction \"read10X\"\n",
     "output_type": "error",
     "traceback": [
      "Error in read10X(sample.dirs = c(\"10x_ctrl_outs\", \"10x_stim_outs\"), sample.names = c(\"ctrl\", : impossible de trouver la fonction \"read10X\"\nTraceback:\n"
     ]
    }
   ],
   "source": [
    "matrix_list <- read10X(sample.dirs =c(\"10x_ctrl_outs\", \"10x_stim_outs\"), sample.names = c(\"ctrl\", \"stim\"), merge = F);"
   ]
  },
  {
   "cell_type": "code",
   "execution_count": null,
   "metadata": {},
   "outputs": [],
   "source": [
    "ifnb_liger <- createLiger(list(ctrl = ctrl_dge, stim = stim_dge))"
   ]
  },
  {
   "cell_type": "code",
   "execution_count": null,
   "metadata": {},
   "outputs": [],
   "source": [
    "ifnb_liger <- normalize(ifnb_liger)\n",
    "ifnb_liger <- selectGenes(ifnb_liger)\n",
    "ifnb_liger <- scaleNotCenter(ifnb_liger)"
   ]
  },
  {
   "cell_type": "markdown",
   "metadata": {},
   "source": [
    "## Stage II: Joint Matrix Factorization"
   ]
  },
  {
   "cell_type": "code",
   "execution_count": null,
   "metadata": {},
   "outputs": [],
   "source": []
  }
 ],
 "metadata": {
  "kernelspec": {
   "display_name": "R",
   "language": "R",
   "name": "ir"
  },
  "language_info": {
   "codemirror_mode": "r",
   "file_extension": ".r",
   "mimetype": "text/x-r-source",
   "name": "R",
   "pygments_lexer": "r",
   "version": "4.2.2"
  }
 },
 "nbformat": 4,
 "nbformat_minor": 4
}
